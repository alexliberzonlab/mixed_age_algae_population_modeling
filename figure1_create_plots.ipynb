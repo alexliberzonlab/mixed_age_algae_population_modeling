{
  "cells": [
    {
      "cell_type": "markdown",
      "metadata": {
        "colab_type": "text",
        "id": "view-in-github"
      },
      "source": [
        "<a href=\"https://colab.research.google.com/github/alexlib/algae_population_model/blob/master/notebooks/figure1.ipynb\" target=\"_parent\"><img src=\"https://colab.research.google.com/assets/colab-badge.svg\" alt=\"Open In Colab\"/></a>"
      ]
    },
    {
      "cell_type": "code",
      "execution_count": 10,
      "metadata": {
        "id": "NhlwmgZhxo9o"
      },
      "outputs": [],
      "source": [
        "import matplotlib.pyplot as plt\n",
        "from scipy.integrate import solve_ivp\n",
        "import numpy as np\n",
        "\n",
        "from algae_population import *\n",
        "\n",
        "\n",
        "SMALL_SIZE = 16\n",
        "MEDIUM_SIZE = 18\n",
        "BIGGER_SIZE = 20\n",
        "\n",
        "plt.rc('font', size=SMALL_SIZE)          # controls default text sizes\n",
        "plt.rc('axes', titlesize=SMALL_SIZE)     # fontsize of the axes title\n",
        "plt.rc('axes', labelsize=MEDIUM_SIZE)    # fontsize of the x and y labels\n",
        "plt.rc('xtick', labelsize=SMALL_SIZE)    # fontsize of the tick labels\n",
        "plt.rc('ytick', labelsize=SMALL_SIZE)    # fontsize of the tick labels\n",
        "plt.rc('legend', fontsize=SMALL_SIZE)    # legend fontsize\n",
        "plt.rc('figure', titlesize=BIGGER_SIZE)  # fontsize of the figure title\n",
        "\n",
        "\n",
        "np.set_printoptions(formatter={'float': lambda x: \"{0:0.3f}\".format(x)})"
      ]
    },
    {
      "cell_type": "code",
      "execution_count": 11,
      "metadata": {},
      "outputs": [],
      "source": [
        "%matplotlib tk"
      ]
    },
    {
      "cell_type": "code",
      "execution_count": 12,
      "metadata": {},
      "outputs": [],
      "source": [
        "import pickle\n",
        "# solutions = pickle.load(open('figure1.p','rb'))\n",
        "solutions = pickle.load(open('figure1r.p','rb'))"
      ]
    },
    {
      "cell_type": "code",
      "execution_count": 13,
      "metadata": {},
      "outputs": [
        {
          "name": "stdout",
          "output_type": "stream",
          "text": [
            "sporulation event at [125.093]\n",
            "sporulation event at [103.659]\n"
          ]
        }
      ],
      "source": [
        "# def figure1(solutions, tend=None, K = 10):\n",
        "from mpl_toolkits.axes_grid1.inset_locator import inset_axes\n",
        "fig, ax = plt.subplots(1,3,figsize=(18,6))\n",
        "\n",
        "axins1 = inset_axes(ax[0], width=\"35%\", height=\"35%\",loc=7)\n",
        "axins2 = inset_axes(ax[2], width=\"35%\", height=\"35%\",loc=7)\n",
        "\n",
        "for sol in solutions:\n",
        "\n",
        "    t0 = sol.t[0]    \n",
        "    if tend is None:\n",
        "        tend = sol.t[-1]\n",
        "\n",
        "    if sol.t_events[0].size > 0 and sol.t_events[0] < tend:\n",
        "        print(f'sporulation event at {sol.t_events[0]}')\n",
        "        tend = sol.t_events[0]\n",
        "\n",
        "    t = np.arange(t0, tend)\n",
        "    z = sol.sol(t)\n",
        "\n",
        "    # fig,ax = plt.subplots(1,3,figsize=(20,6))\n",
        "    # ax[0].plot(t, z[:-1,:].T,'-o')\n",
        "    # ax[0].set_ylabel('Age $a_i$')\n",
        "    # ax[0].set_xlabel('days')\n",
        "    # # ax[0].legend(['a0', 'a1', 'a2'], shadow=True)\n",
        "    # ax[0].set_title('Population age evolution')\n",
        "\n",
        "    \n",
        "    \n",
        "    # mass and inhibitor\n",
        "    biomass = z[:-1, :] \n",
        "    I = z[-1,:]\n",
        "\n",
        "    # what we gain is:\n",
        "    _yield = np.sum( biomass.T - biomass[:,0], axis=1)\n",
        "    \n",
        "\n",
        "    ax[0].plot(t, _yield,'-',label = sol['s'][0])\n",
        "    # _yield[_yield==0] = 0.001\n",
        "    # ax[0].plot(t, np.log(_yield),'-o',label = sol['s'][0])\n",
        "    ax[0].set_xlabel('days')\n",
        "    ax[0].set_ylabel(r'Yield kg/m$^3$')\n",
        "    # ax.set_title('Total biomass')\n",
        "    ax[0].set_ylim([-1, 11])\n",
        "    ax[0].set_xlim([0,100])\n",
        "    # ax[0].set_yscale('symlog')\n",
        "    # ax[0].legend()\n",
        "    ax[0].text(2.1, 9.5, 'a)', size=14)\n",
        "\n",
        "\n",
        "    axins1.plot(t[:10], _yield[:10],'-')\n",
        "    # if sol.t_events[0].size > 0:\n",
        "    #     ax[0].annotate('sporulation', xy=(tend, 0),  xycoords='data',\n",
        "    #             xytext=(tend, 0.05),\n",
        "    #             arrowprops=dict(arrowstyle=\"->\",\n",
        "    #                             connectionstyle=\"arc3\", color='red')\n",
        "    #             )\n",
        "\n",
        "    ax[2].plot(t,I,'-',label= sol['s'][0])\n",
        "    ax[2].set_xlabel('days')\n",
        "    ax[2].set_ylabel(r'$I$')\n",
        "    ax[2].plot([0,120],[1.8, 1.8],'k--',lw=0.1)\n",
        "    ax[2].set_xlim([0,100])\n",
        "    # ax[1].set_yscale('symlog')\n",
        "    # ax[1].set_title(\"Inhibitor\")\n",
        "    ax[2].text(10,1.65, 'c)',fontsize=14)\n",
        "\n",
        "    axins2.plot(t[:10], I[:10])\n",
        "\n",
        "    ind = np.argmax(_yield >= 0.9*9.8)\n",
        "    \n",
        "    # the percentage of youngs \n",
        "    youngs = int(sol['s'][0].split('/')[0])\n",
        "    # print(youngs)\n",
        "    settling_time = t[ind]\n",
        "    if settling_time == 0:\n",
        "        settling_time = np.nan\n",
        "\n",
        "    # ax[2].plot(t, np.cumsum(_yield)/biomass[:,0].sum(),'-',label = sol['s'][0])\n",
        "    # if settling_time > 0:\n",
        "    ax[1].plot(youngs, settling_time,'o-', label = sol['s'][0])\n",
        "    # _yield[_yield==0] = 0.001\n",
        "    # ax[0].plot(t, np.log(_yield),'-o',)\n",
        "    ax[1].set_xlabel('Percentage of young')\n",
        "    ax[1].set_ylabel(r'Time to 90\\%')\n",
        "    # ax[2].set_xlim([0,100])\n",
        "    # ax.set_title('Total biomass')\n",
        "    # ax[0].set_ylim([-1, 11])\n",
        "    # ax[0].set_xlim([0,100])\n",
        "    # ax[0].set_yscale('symlog')\n",
        "    ax[1].legend()\n",
        "    \n",
        "\n",
        "    fmt = mpl.ticker.StrMethodFormatter(\"{x:g}\")\n",
        "    ax[0].yaxis.set_major_formatter(fmt)\n",
        "    ax[0].yaxis.set_minor_formatter(fmt)\n",
        "\n",
        "    ax[1].yaxis.set_major_formatter(fmt)\n",
        "    ax[1].yaxis.set_minor_formatter(fmt)\n",
        "    ax[1].text(20,57, 'b)',fontsize=14)\n",
        "    # ax[0].legend(bbox_to_anchor=(1.5, 1.0))\n",
        "                 \n",
        "plt.show()\n",
        "# return fig, ax\n",
        "\n",
        "# fig.savefig('figure1_revised.png',dpi=200, bbox_inches='tight', \n",
        "#                transparent=True,\n",
        "#                pad_inches=0)"
      ]
    },
    {
      "cell_type": "code",
      "execution_count": 14,
      "metadata": {},
      "outputs": [
        {
          "name": "stdout",
          "output_type": "stream",
          "text": [
            "100\n",
            "90\n",
            "80\n",
            "70\n",
            "60\n",
            "50\n",
            "40\n",
            "30\n",
            "20\n",
            "10\n",
            "0\n"
          ]
        }
      ],
      "source": [
        "settling_times = []\n",
        "for sol in solutions:\n",
        "    t0 = sol.t[0]    \n",
        "    if tend is None:\n",
        "        tend = sol.t[-1]\n",
        "\n",
        "    if sol.t_events[0].size > 0 and sol.t_events[0] < tend:\n",
        "        print(f'sporulation event at {sol.t_events[0]}')\n",
        "        tend = sol.t_events[0]\n",
        "\n",
        "    t = np.arange(t0, tend)\n",
        "    z = sol.sol(t)\n",
        "    \n",
        "    # mass and inhibitor\n",
        "    biomass = z[:-1, :] \n",
        "    I = z[-1,:]\n",
        "\n",
        "    # what we gain is:\n",
        "    _yield = np.sum( biomass.T - biomass[:,0], axis=1)\n",
        "    ind = np.argmax(_yield >= 0.9*9.8)\n",
        "    \n",
        "    youngs = int(sol['s'][0].split('/')[0])\n",
        "    print(youngs)\n",
        "    settling_time = t[ind]\n",
        "    \n",
        "    if settling_time == 0:\n",
        "        settling_time = np.nan\n",
        "\n",
        "    settling_times.append(settling_time)\n"
      ]
    },
    {
      "cell_type": "code",
      "execution_count": 15,
      "metadata": {},
      "outputs": [
        {
          "name": "stdout",
          "output_type": "stream",
          "text": [
            "[27.0, 28.0, 29.0, 31.0, 33.0, 35.0, 39.0, 45.0, 60.0, nan, nan]\n"
          ]
        }
      ],
      "source": [
        "print(settling_times)"
      ]
    },
    {
      "cell_type": "code",
      "execution_count": null,
      "metadata": {},
      "outputs": [],
      "source": []
    }
  ],
  "metadata": {
    "interpreter": {
      "hash": "09c7d1db9faa0e87e4adf5841fcf12e1774be64a0f94f466ad4b1077a638aab1"
    },
    "kernelspec": {
      "display_name": "Python 3.7.9 64-bit ('algae': conda)",
      "language": "python",
      "name": "python3"
    },
    "language_info": {
      "codemirror_mode": {
        "name": "ipython",
        "version": 3
      },
      "file_extension": ".py",
      "mimetype": "text/x-python",
      "name": "python",
      "nbconvert_exporter": "python",
      "pygments_lexer": "ipython3",
      "version": "3.9.7"
    },
    "metadata": {
      "interpreter": {
        "hash": "1e3740fe20231a7d06d183aa1e86f61299ef0b9c185e4362582b11314de8da37"
      }
    },
    "orig_nbformat": 3
  },
  "nbformat": 4,
  "nbformat_minor": 0
}
